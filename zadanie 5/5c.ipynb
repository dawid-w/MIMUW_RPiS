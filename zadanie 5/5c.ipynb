{
 "cells": [
  {
   "cell_type": "markdown",
   "metadata": {},
   "source": [
    "### Dawid Weiss\n",
    "\n",
    "### 406410\n",
    "\n",
    "### Zadanie 5c"
   ]
  },
  {
   "cell_type": "markdown",
   "metadata": {},
   "source": [
    "** Problem 5c (Chi-square independence test).** \n",
    "You are given the results of IPSOS exit polls for 2015 parliamentary elections in Poland in table **data**. Decide if we can assume that gender has no effect on voting preferences. To this end:\n",
    " * Compute row totals $r_i$, column totals $c_j$, and overall total $N$.\n",
    " * If the variables are independent, we expect to see $f_{ij} = r_i c_j / N$ in $i$-th row $j$-th column.\n",
    " * Compute the test statistic as before, i.e. $$ S = \\sum_{ij} \\frac{\\left(f_{ij}-X_{ij}\\right)^2}{f_{ij}}.$$\n",
    " * Again test vs $\\chi^2$ CDF. However, if the variables are independent, we only have $(r-1)(c-1)$ degrees of freedom here (we only need to know the row and column totals).\n",
    " * One obvious offender is the KORWiN party, try removing the last column and repeating the experiment.\n",
    " \n",
    "**Note:** This kind of data is (to the best of our knowledge) not available online. It has been recreated based on\n",
    "online infographics and other tidbits of information available online. It is definitely not completely accurate, hopefully it is not very far off. Moreover, exit polls do not necessary reflect the actual distribution of the population."
   ]
  },
  {
   "cell_type": "code",
   "execution_count": 1,
   "metadata": {},
   "outputs": [],
   "source": [
    "import numpy as np\n",
    "from scipy.stats import chi2\n",
    "import matplotlib.pyplot as plt"
   ]
  },
  {
   "cell_type": "code",
   "execution_count": 2,
   "metadata": {},
   "outputs": [],
   "source": [
    "# Rows: women, men\n",
    "# Columns: PiS, PO, Kukiz, Nowoczesna, Lewica, PSL, Razem, KORWiN\n",
    "data = np.array([[ 17508, 11642,  3308,  3131,  2911,  2205,  1852, 1235],\n",
    " [ 17672,  9318,  4865,  3259,  3029,  2479,  1606, 3259]])"
   ]
  },
  {
   "cell_type": "code",
   "execution_count": 3,
   "metadata": {},
   "outputs": [],
   "source": [
    "def test(data,a):\n",
    "    rows_n,columns_n =  np.shape(data)\n",
    "    deg_of_fr = (rows_n-1)*(columns_n-1)\n",
    "    \n",
    "    #Compute totals:\n",
    "    R_totals = np.sum(data, axis=1)\n",
    "    C_totals = np.sum(data, axis=0)\n",
    "    N_total = sum(R_totals)\n",
    "    print(C_totals);\n",
    "\n",
    "    S = 0\n",
    "\n",
    "    for i in range(rows_n):\n",
    "        for j in range(columns_n):\n",
    "            f = R_totals[i]*C_totals[j]\n",
    "            f/=N_total\n",
    "            S += (f - data[i][j])**2 / f\n",
    "    p = 1 - chi2.cdf(S,deg_of_fr)\n",
    "    print(p)\n",
    "    return p > a\n",
    "    #Interpretacja:\n",
    "    #P wartosc - prawdopodobieństwo, że zależność jaką zaobserwowano w losowej próbie mogła wystąpić przypadkowo, jezeli jest ono mniejsza niż nasza 0.05 (przyjęta istotność statystyczna) czyli p-swto że takia zależność jest losowa jest bardzo małe możemu uznąc że hipoteza iż zmienne są niezależne jest nieprawdziwa -> są zależne\n",
    "\n"
   ]
  },
  {
   "cell_type": "code",
   "execution_count": 4,
   "metadata": {},
   "outputs": [
    {
     "name": "stdout",
     "output_type": "stream",
     "text": "Test dla wszystkich partii politycznych (dla a = 0.05):\n[35180 20960  8173  6390  5940  4684  3458  4494]\n0.0\nZalezne\n"
    }
   ],
   "source": [
    "print(\"Test dla wszystkich partii politycznych (dla a = 0.05):\")\n",
    "print(\"Niezalezna\" if test(data,0.05) else \"Zalezne\")"
   ]
  },
  {
   "cell_type": "code",
   "execution_count": 5,
   "metadata": {},
   "outputs": [
    {
     "name": "stdout",
     "output_type": "stream",
     "text": "Test dla wszystkich partii politycznych poza partia korwin (dla a = 0.05):\n[35180 20960  8173  6390  5940  4684  3458]\n0.0\nZalezne\n"
    }
   ],
   "source": [
    "data = np.array([[ 17508, 11642,  3308,  3131,  2911,  2205,  1852],\n",
    " [ 17672,  9318,  4865,  3259,  3029,  2479,  1606]])\n",
    "\n",
    "print(\"Test dla wszystkich partii politycznych poza partia korwin (dla a = 0.05):\")\n",
    "print(\"Niezalezna\" if test(data,0.05) else \"Zalezne\")"
   ]
  },
  {
   "cell_type": "code",
   "execution_count": null,
   "metadata": {},
   "outputs": [],
   "source": []
  }
 ],
 "metadata": {
  "kernelspec": {
   "display_name": "Python 3",
   "language": "python",
   "name": "python3"
  },
  "language_info": {
   "codemirror_mode": {
    "name": "ipython",
    "version": 3
   },
   "file_extension": ".py",
   "mimetype": "text/x-python",
   "name": "python",
   "nbconvert_exporter": "python",
   "pygments_lexer": "ipython3",
   "version": "2.7.17-final"
  }
 },
 "nbformat": 4,
 "nbformat_minor": 1
}